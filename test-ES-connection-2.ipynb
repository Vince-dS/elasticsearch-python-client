{
 "cells": [
  {
   "cell_type": "markdown",
   "id": "90f40feb-79b0-44a7-bbbb-b7d354150825",
   "metadata": {},
   "source": [
    "### Testing ES connection to personal cloud instance on v 8.18 \n",
    "\n",
    "- ES_URL: `https://vds-v8-18-0-2025-04-25.es.europe-west1.gcp.cloud.es.io`\n"
   ]
  },
  {
   "cell_type": "markdown",
   "id": "25749c51-6519-4352-9582-17a1c6f46fec",
   "metadata": {},
   "source": [
    "#### Setup elasticsearch python lib\n",
    "\n",
    "> Using elasticsearch-py 9.0.0 on an Elasticsearch 8 server will fail.\n",
    "\n",
    "=> documentation [https://elasticsearch-py.readthedocs.io/en/v8.18.0/](https://elasticsearch-py.readthedocs.io/en/v8.18.0/)"
   ]
  },
  {
   "cell_type": "code",
   "execution_count": 21,
   "id": "2cf90783-1c55-4101-a1b1-e184bc58cec9",
   "metadata": {},
   "outputs": [
    {
     "name": "stdout",
     "output_type": "stream",
     "text": [
      "Note: you may need to restart the kernel to use updated packages.\n"
     ]
    }
   ],
   "source": [
    "%pip install -qU elasticsearch8"
   ]
  },
  {
   "cell_type": "markdown",
   "id": "e64e45bf-f031-45a7-9448-b96edb5ad3a6",
   "metadata": {},
   "source": [
    "### Import environmement variables from .env"
   ]
  },
  {
   "cell_type": "code",
   "execution_count": 90,
   "id": "31b4ab9f-9868-425b-9baa-93c3f2f48364",
   "metadata": {},
   "outputs": [
    {
     "name": "stdout",
     "output_type": "stream",
     "text": [
      "https://vds-v8-18-0-2025-04-25.es.europe-west1.gcp.cloud.es.io\n"
     ]
    }
   ],
   "source": [
    "import os\n",
    "import shlex\n",
    "\n",
    "# parse_shell_var(line):\n",
    "#   Parse such lines as:\n",
    "#        FOO=\"My variable foo\"\n",
    "#    :return: ('FOO', 'My variable foo')\n",
    "def parse_shell_var(line):\n",
    "    return shlex.split(line, posix=True)[0].split('=', 1)\n",
    "\n",
    "if __name__ == '__main__':\n",
    "    with open('.env') as f:\n",
    "        shell_vars = dict(parse_shell_var(line) for line in f if '=' in line)\n",
    "#    print(shell_vars)\n",
    "    \n",
    "es_url =  shell_vars['ES_URL']\n",
    "es_apikey = shell_vars['ES_APIKEY']\n",
    "print(es_url)\n"
   ]
  },
  {
   "cell_type": "markdown",
   "id": "517c400e-f9e9-4445-8ff1-ab7c24f123f8",
   "metadata": {},
   "source": [
    "### Test connection to ES"
   ]
  },
  {
   "cell_type": "code",
   "execution_count": 91,
   "id": "fd890b66-e327-4990-8cc8-de9173b514c5",
   "metadata": {},
   "outputs": [
    {
     "name": "stdout",
     "output_type": "stream",
     "text": [
      "{'name': 'instance-0000000001', 'cluster_name': 'bc7c9add63df45128ce53c750a12a332', 'cluster_uuid': 'nTyiCKvaT62xkEHr8oaSFQ', 'version': {'number': '8.18.0', 'build_flavor': 'default', 'build_type': 'docker', 'build_hash': '04e979aa50b657bebd4a0937389308de82c2bdad', 'build_date': '2025-04-10T10:09:16.444104780Z', 'build_snapshot': False, 'lucene_version': '9.12.1', 'minimum_wire_compatibility_version': '7.17.0', 'minimum_index_compatibility_version': '7.0.0'}, 'tagline': 'You Know, for Search'}\n"
     ]
    }
   ],
   "source": [
    "from elasticsearch8 import Elasticsearch\n",
    "\n",
    "# Connect to elasticsearch\n",
    "if (es_apikey) :\n",
    "    es = Elasticsearch(hosts=es_url, api_key=es_apikey)\n",
    "else:\n",
    "    print(\"missing env. variables to connect to elasticsearch\")\n",
    "\n",
    "#  Successful response!\n",
    "print(es.info(human=True,pretty=True))\n",
    "# should return cluster info"
   ]
  },
  {
   "cell_type": "code",
   "execution_count": 92,
   "id": "f3c9136f-26af-47df-a75d-0b88b9e6dbc9",
   "metadata": {},
   "outputs": [
    {
     "name": "stdout",
     "output_type": "stream",
     "text": [
      "index                                     docs.count\n",
      "cb_2018_us_csa_500k                              174\n",
      "domain_attributes                                  0\n",
      "earthquake-2                                       4\n",
      "earthquake-test1                                8802\n",
      "elasticlogs                                   123019\n",
      "food-ingredients                                   2\n",
      "host_attributes                                    4\n",
      "inspections                                        5\n",
      "kibana_sample_data_ecommerce                    4675\n",
      "kibana_sample_data_flights                     13059\n",
      "kibana_sample_data_logs                        14074\n",
      "logstash-2023.03.31                                0\n",
      "m21_country                                        3\n",
      "magnitude_type                                     2\n",
      "metrics-endpoint.metadata_current_default          0\n",
      "movie_data                                        10\n",
      "my-index-000001                                    1\n",
      "my-index-agent                                     2\n",
      "my-index-analyser-test-ece                         0\n",
      "my_blogs_2022_06                                   0\n",
      "my_blogs_2022_07                                   0\n",
      "my_blogs_2022_08                                   0\n",
      "my_blogs_2022_09                                   2\n",
      "my_blogs_2022_10                                   0\n",
      "my_blogs_2022_11                                   3\n",
      "my_keywords                                        3\n",
      "my_newblogs_2020_09                                2\n",
      "my_newblogs_2020_10                                2\n",
      "test                                               0\n",
      "text_index                                         3\n",
      "users                                              1\n",
      "\n"
     ]
    }
   ],
   "source": [
    "# cat indices with python\n",
    "\n",
    "resp = es.cat.indices(index=\"*,-.*\",v=True,h=\"index,docs.count\",s=\"index\")\n",
    "print(resp)"
   ]
  }
 ],
 "metadata": {
  "kernelspec": {
   "display_name": "Python 3 (ipykernel)",
   "language": "python",
   "name": "python3"
  },
  "language_info": {
   "codemirror_mode": {
    "name": "ipython",
    "version": 3
   },
   "file_extension": ".py",
   "mimetype": "text/x-python",
   "name": "python",
   "nbconvert_exporter": "python",
   "pygments_lexer": "ipython3",
   "version": "3.8.17"
  }
 },
 "nbformat": 4,
 "nbformat_minor": 5
}
