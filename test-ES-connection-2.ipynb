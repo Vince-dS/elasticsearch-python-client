{
 "cells": [
  {
   "cell_type": "markdown",
   "id": "58a95da3-8fc1-4fb3-b585-f488f7522cc4",
   "metadata": {},
   "source": [
    "## Simple notebook to test elasticsearch-py client connection \n",
    "#### ( to an elasticsearch cluster on v 8.x )\n",
    "\n"
   ]
  },
  {
   "cell_type": "markdown",
   "id": "7828cfa8-d928-424b-a9d8-34fb0577318d",
   "metadata": {},
   "source": [
    "#### Setup elasticsearch python lib\n",
    "\n",
    "> Using elasticsearch-py 9.0.0 on an Elasticsearch 8 server will fail.\n",
    "    \n",
    "> Check the compatibility between Elasticsearch and elasticsearch-py : \n",
    "> [https://www.elastic.co/docs/reference/elasticsearch/clients/python#_compatibility](https://www.elastic.co/docs/reference/elasticsearch/clients/python#_compatibility)\n",
    "\n",
    "=> documentation [https://elasticsearch-py.readthedocs.io/en/v8.18.0/](https://elasticsearch-py.readthedocs.io/en/v8.18.0/)\n"
   ]
  },
  {
   "cell_type": "markdown",
   "id": "9088fb1b-f474-4420-96b6-2e218f2091c6",
   "metadata": {},
   "source": [
    "%pip install -qU elasticsearch8"
   ]
  },
  {
   "cell_type": "markdown",
   "id": "e64e45bf-f031-45a7-9448-b96edb5ad3a6",
   "metadata": {},
   "source": [
    "### Import environmement variables from .env"
   ]
  },
  {
   "cell_type": "code",
   "execution_count": 94,
   "id": "31b4ab9f-9868-425b-9baa-93c3f2f48364",
   "metadata": {},
   "outputs": [],
   "source": [
    "import os\n",
    "import shlex\n",
    "\n",
    "# parse_shell_var(line):\n",
    "#   Parse such lines as:\n",
    "#        FOO=\"My variable foo\"\n",
    "#    :return: ('FOO', 'My variable foo')\n",
    "def parse_shell_var(line):\n",
    "    return shlex.split(line, posix=True)[0].split('=', 1)\n",
    "\n",
    "if __name__ == '__main__':\n",
    "    with open('.env') as f:\n",
    "        shell_vars = dict(parse_shell_var(line) for line in f if '=' in line)\n",
    "#    print(shell_vars)\n",
    "    \n",
    "es_url =  shell_vars['ES_URL']\n",
    "es_apikey = shell_vars['ES_APIKEY']\n",
    "# print(es_url)\n"
   ]
  },
  {
   "cell_type": "markdown",
   "id": "517c400e-f9e9-4445-8ff1-ab7c24f123f8",
   "metadata": {},
   "source": [
    "### Test connection to ES"
   ]
  },
  {
   "cell_type": "code",
   "execution_count": 108,
   "id": "fd890b66-e327-4990-8cc8-de9173b514c5",
   "metadata": {},
   "outputs": [],
   "source": [
    "from elasticsearch8 import Elasticsearch\n",
    "\n",
    "# Connect to elasticsearch\n",
    "if (es_apikey) :\n",
    "    es = Elasticsearch(hosts=es_url, api_key=es_apikey)\n",
    "else:\n",
    "    print(\"missing env. variables to connect to elasticsearch\")\n",
    "\n",
    "#  Successful response!\n",
    "# uncomment next line to have the response of GET /\n",
    "#print(es.info())\n"
   ]
  },
  {
   "cell_type": "code",
   "execution_count": 95,
   "id": "f3c9136f-26af-47df-a75d-0b88b9e6dbc9",
   "metadata": {},
   "outputs": [
    {
     "name": "stdout",
     "output_type": "stream",
     "text": [
      "index                        docs.count\n",
      "kibana_sample_data_ecommerce       4675\n",
      "kibana_sample_data_flights        13059\n",
      "kibana_sample_data_logs           14074\n",
      "\n"
     ]
    }
   ],
   "source": [
    "# cat indices with python\n",
    "\n",
    "resp = es.cat.indices(index=\"kibana*,-.*\",v=True,h=\"index,docs.count\",s=\"index\")\n",
    "print(resp)"
   ]
  }
 ],
 "metadata": {
  "kernelspec": {
   "display_name": "Python 3 (ipykernel)",
   "language": "python",
   "name": "python3"
  },
  "language_info": {
   "codemirror_mode": {
    "name": "ipython",
    "version": 3
   },
   "file_extension": ".py",
   "mimetype": "text/x-python",
   "name": "python",
   "nbconvert_exporter": "python",
   "pygments_lexer": "ipython3",
   "version": "3.8.17"
  }
 },
 "nbformat": 4,
 "nbformat_minor": 5
}
